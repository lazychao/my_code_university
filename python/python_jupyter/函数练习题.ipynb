{
 "cells": [
  {
   "cell_type": "markdown",
   "metadata": {},
   "source": [
    "```\n",
    "设计一个函数，用来过滤输入字符串中的铭感字符串，如果遇到敏感字符串，则替换为5个星号字符“*****”。\n",
    "提示1：函数的声明语句如下\n",
    "def myfilter(source, speclist)\n",
    "source表示待处理的字符串，敏感字符串用列表speclist存储。\n",
    "提示2：可能用到字符串对象的查找函数find，替换函数replac\n",
    "e。\n",
    "```\n",
    "##### replace用法：str.replace(old, new[, max])返回字符串中的 old（旧字符串） 替换成 new(新字符串)后生成的新字符串，如果指定第三个参数max，则替换不超过 max 次。，需要注意 replace 不会改变原 string 的内容\n",
    "##### find 用法：str.find(str, beg=0, end=len(string))str -- 指定检索的字符串beg -- 开始索引，默认为0。end -- 结束索引，默认为字符串的长度\n"
   ]
  },
  {
   "cell_type": "code",
   "execution_count": 1,
   "metadata": {},
   "outputs": [
    {
     "name": "stdout",
     "output_type": "stream",
     "text": [
      "*****sa1\n"
     ]
    }
   ],
   "source": [
    "def myfilter(source, speclist):\n",
    "    for i in speclist:\n",
    "        source=source.replace(i,'*****',len(source))\n",
    "    return source\n",
    "\n",
    "print(myfilter('asssa1',['ass','ssa']))\n",
    "\n",
    "            "
   ]
  },
  {
   "cell_type": "code",
   "execution_count": 8,
   "metadata": {},
   "outputs": [
    {
     "data": {
      "text/plain": [
       "'222ji'"
      ]
     },
     "execution_count": 8,
     "metadata": {},
     "output_type": "execute_result"
    }
   ],
   "source": [
    "s='asdji'\n",
    "a=s.replace('asd','222')\n",
    "a"
   ]
  },
  {
   "cell_type": "markdown",
   "metadata": {},
   "source": [
    "```\n",
    "1.2.\t列表表示的矩阵对应元素相乘的结果\n",
    "\n",
    "已知2个用列表表示的矩阵A,B，假设A,B的维数相同，请编写一个函数计算任意2个这样存储的矩阵的对应元素的乘积结果矩阵，并返回。\n",
    "提示：可以用下列声明语句定义该函数.\n",
    "def mydotarray2(A,B):\n",
    "```\n",
    "\n"
   ]
  },
  {
   "cell_type": "code",
   "execution_count": 2,
   "metadata": {},
   "outputs": [
    {
     "ename": "SyntaxError",
     "evalue": "invalid syntax (<ipython-input-2-0aafff1af36e>, line 5)",
     "output_type": "error",
     "traceback": [
      "\u001b[1;36m  File \u001b[1;32m\"<ipython-input-2-0aafff1af36e>\"\u001b[1;36m, line \u001b[1;32m5\u001b[0m\n\u001b[1;33m    C=[   list( range(     len(A[0])    ) ]*len(A)\u001b[0m\n\u001b[1;37m                                          ^\u001b[0m\n\u001b[1;31mSyntaxError\u001b[0m\u001b[1;31m:\u001b[0m invalid syntax\n"
     ]
    }
   ],
   "source": [
    "def mydotarray2(A,B):\n",
    "    if len(A)==0:\n",
    "        C==[];\n",
    "        \n",
    "        return C;\n",
    "    C=list(range(len(A[0]))*len(A)\n",
    "    for i in range(len(A)):\n",
    "        for j in range(len(A[i])):\n",
    "            C[i][j]=A[i][j]*B[i][j]\n",
    "    return C    \n",
    "\n",
    "A=[[1,2,3],[1,2,3]]\n",
    "B=[[3,2,1],[3,2,1]]\n",
    "print(mydotarray2(A,B))\n",
    "            "
   ]
  },
  {
   "cell_type": "markdown",
   "metadata": {},
   "source": [
    "```\n",
    "1.3.\t回文数的判断\n",
    "编写一个函数，用来判断一个数字组成的字符串是否表示的是回文数。如果字符串表示的是一个回文数，请返回True，否则返回False。\n",
    "```"
   ]
  },
  {
   "cell_type": "code",
   "execution_count": 5,
   "metadata": {},
   "outputs": [
    {
     "name": "stdout",
     "output_type": "stream",
     "text": [
      "True\n",
      "False\n"
     ]
    }
   ],
   "source": [
    "def isPalindrome(s):\n",
    "    l=list(s)\n",
    "    l.reverse()\n",
    "    S=''.join(l)\n",
    "    return S==s\n",
    "\n",
    "print(isPalindrome('asdfdsa'))\n",
    "print(isPalindrome('asdfdsa1'))\n",
    "\n"
   ]
  },
  {
   "cell_type": "code",
   "execution_count": null,
   "metadata": {},
   "outputs": [],
   "source": [
    "res=1    \n",
    "#//是整除\n",
    "#-1是\n",
    "for i in range(len(s)//2):\n",
    "    if(s[i]!=s[-i-1]):\n",
    "        return False\n",
    "    "
   ]
  },
  {
   "cell_type": "markdown",
   "metadata": {},
   "source": [
    "```\n",
    "1.4.\t提取列表的数字\n",
    "2019.10.10 设计\n",
    "编写一个函数，将一个列表中的所有的数字元素进行提取，这个“元素”是既包括该列表的直接元素，也可以是其元素的元素，或更深层次的元素。这里涉及递归操作。\n",
    "例如，如果输入为[1,3,5,[2,4,6],[7,[8,9]]]，则结果为[1,3,5,2,4,6,7,8,9].\n",
    "```"
   ]
  },
  {
   "cell_type": "code",
   "execution_count": 44,
   "metadata": {},
   "outputs": [
    {
     "name": "stdout",
     "output_type": "stream",
     "text": [
      "[1, 3, 5, 2, 4, 6, 7, 8, 9]\n"
     ]
    }
   ],
   "source": [
    "def get_nums(lis1,lis2):\n",
    "    for i in lis1:\n",
    "        if type(i)==type([]):\n",
    "            get_nums(i,lis2)\n",
    "        else:\n",
    "            lis2.append(i)\n",
    "\n",
    "l1=[1,3,5,[2,4,6],[7,[8,9]]]\n",
    "l2=[]\n",
    "get_nums(l1,l2)\n",
    "print(l2)\n"
   ]
  },
  {
   "cell_type": "code",
   "execution_count": 33,
   "metadata": {},
   "outputs": [
    {
     "name": "stdout",
     "output_type": "stream",
     "text": [
      "2\n"
     ]
    }
   ],
   "source": [
    "def fun(a,b):\n",
    "    a=b\n",
    "\n",
    "a=2\n",
    "b=1\n",
    "fun(a,b)\n",
    "print(a)"
   ]
  },
  {
   "cell_type": "code",
   "execution_count": 36,
   "metadata": {},
   "outputs": [
    {
     "name": "stdout",
     "output_type": "stream",
     "text": [
      "140735386742528\n",
      "140735386742560\n",
      "140735386742560\n",
      "140735386742560\n"
     ]
    }
   ],
   "source": [
    "a=1\n",
    "b=2\n",
    "print(id(a))\n",
    "print(id(b))\n",
    "a=b\n",
    "print(id(a))\n",
    "print(id(b))\n"
   ]
  },
  {
   "cell_type": "code",
   "execution_count": 39,
   "metadata": {},
   "outputs": [
    {
     "name": "stdout",
     "output_type": "stream",
     "text": [
      "140735386742528\n",
      "140735386742560\n"
     ]
    },
    {
     "ename": "TypeError",
     "evalue": "'int' object is not subscriptable",
     "output_type": "error",
     "traceback": [
      "\u001b[1;31m---------------------------------------------------------------------------\u001b[0m",
      "\u001b[1;31mTypeError\u001b[0m                                 Traceback (most recent call last)",
      "\u001b[1;32m<ipython-input-39-8904c08f3d81>\u001b[0m in \u001b[0;36m<module>\u001b[1;34m()\u001b[0m\n\u001b[0;32m      3\u001b[0m \u001b[0mprint\u001b[0m\u001b[1;33m(\u001b[0m\u001b[0mid\u001b[0m\u001b[1;33m(\u001b[0m\u001b[0ma\u001b[0m\u001b[1;33m)\u001b[0m\u001b[1;33m)\u001b[0m\u001b[1;33m\u001b[0m\u001b[0m\n\u001b[0;32m      4\u001b[0m \u001b[0mprint\u001b[0m\u001b[1;33m(\u001b[0m\u001b[0mid\u001b[0m\u001b[1;33m(\u001b[0m\u001b[0mb\u001b[0m\u001b[1;33m)\u001b[0m\u001b[1;33m)\u001b[0m\u001b[1;33m\u001b[0m\u001b[0m\n\u001b[1;32m----> 5\u001b[1;33m \u001b[0ma\u001b[0m\u001b[1;33m=\u001b[0m\u001b[0mb\u001b[0m\u001b[1;33m[\u001b[0m\u001b[1;33m:\u001b[0m\u001b[1;33m]\u001b[0m\u001b[1;33m\u001b[0m\u001b[0m\n\u001b[0m\u001b[0;32m      6\u001b[0m \u001b[0mprint\u001b[0m\u001b[1;33m(\u001b[0m\u001b[0mid\u001b[0m\u001b[1;33m(\u001b[0m\u001b[0ma\u001b[0m\u001b[1;33m)\u001b[0m\u001b[1;33m)\u001b[0m\u001b[1;33m\u001b[0m\u001b[0m\n\u001b[0;32m      7\u001b[0m \u001b[0mprint\u001b[0m\u001b[1;33m(\u001b[0m\u001b[0mid\u001b[0m\u001b[1;33m(\u001b[0m\u001b[0mb\u001b[0m\u001b[1;33m)\u001b[0m\u001b[1;33m)\u001b[0m\u001b[1;33m\u001b[0m\u001b[0m\n",
      "\u001b[1;31mTypeError\u001b[0m: 'int' object is not subscriptable"
     ]
    }
   ],
   "source": [
    "a=1\n",
    "b=2\n",
    "print(id(a))\n",
    "print(id(b))\n",
    "a=b[:]\n",
    "print(id(a))\n",
    "print(id(b))"
   ]
  },
  {
   "cell_type": "markdown",
   "metadata": {},
   "source": [
    "### 不断的引用自身导致了无限循环"
   ]
  },
  {
   "cell_type": "code",
   "execution_count": 38,
   "metadata": {},
   "outputs": [
    {
     "name": "stdout",
     "output_type": "stream",
     "text": [
      "[0, [...], 2]\n"
     ]
    }
   ],
   "source": [
    "values=[0,1,2]\n",
    "values[1]=values\n",
    "print(values)"
   ]
  },
  {
   "cell_type": "code",
   "execution_count": 7,
   "metadata": {},
   "outputs": [
    {
     "name": "stdout",
     "output_type": "stream",
     "text": [
      "4+6*2\n"
     ]
    },
    {
     "data": {
      "text/plain": [
       "16"
      ]
     },
     "execution_count": 7,
     "metadata": {},
     "output_type": "execute_result"
    }
   ],
   "source": [
    "#\n",
    "s=input()\n",
    "eval(s)"
   ]
  },
  {
   "cell_type": "code",
   "execution_count": 8,
   "metadata": {},
   "outputs": [
    {
     "name": "stdout",
     "output_type": "stream",
     "text": [
      "3\n"
     ]
    },
    {
     "data": {
      "text/plain": [
       "True"
      ]
     },
     "execution_count": 8,
     "metadata": {},
     "output_type": "execute_result"
    }
   ],
   "source": [
    "#判断类型\n",
    "a=int(input())\n",
    "isinstance(a,int)"
   ]
  },
  {
   "cell_type": "code",
   "execution_count": 9,
   "metadata": {},
   "outputs": [
    {
     "data": {
      "text/plain": [
       "8"
      ]
     },
     "execution_count": 9,
     "metadata": {},
     "output_type": "execute_result"
    }
   ],
   "source": [
    "sum([2,3,2,1])"
   ]
  },
  {
   "cell_type": "code",
   "execution_count": 15,
   "metadata": {},
   "outputs": [
    {
     "ename": "SyntaxError",
     "evalue": "unexpected EOF while parsing (<ipython-input-15-1617f6afe574>, line 3)",
     "output_type": "error",
     "traceback": [
      "\u001b[1;36m  File \u001b[1;32m\"<ipython-input-15-1617f6afe574>\"\u001b[1;36m, line \u001b[1;32m3\u001b[0m\n\u001b[1;33m    \u001b[0m\n\u001b[1;37m    ^\u001b[0m\n\u001b[1;31mSyntaxError\u001b[0m\u001b[1;31m:\u001b[0m unexpected EOF while parsing\n"
     ]
    }
   ],
   "source": [
    " A=[[2,2],[2,1]]\n",
    " C= list( range(     len(A[0])    ) *len(A)\n",
    "         "
   ]
  },
  {
   "cell_type": "code",
   "execution_count": 6,
   "metadata": {},
   "outputs": [
    {
     "name": "stdout",
     "output_type": "stream",
     "text": [
      "[1, 2, 1, 2]\n"
     ]
    }
   ],
   "source": [
    "a=[[]]\n",
    "a=[1,2]*2\n",
    "print(a)"
   ]
  },
  {
   "cell_type": "code",
   "execution_count": 7,
   "metadata": {},
   "outputs": [
    {
     "name": "stdout",
     "output_type": "stream",
     "text": [
      "2 3 4 5 6\n",
      "2\n",
      "3\n",
      "4\n",
      "5\n",
      "6\n"
     ]
    }
   ],
   "source": [
    "lis1=[]\n",
    "lis1=[int(x) for x in input().split()]\n",
    "for i in lis1:\n",
    "    print(i)"
   ]
  },
  {
   "cell_type": "code",
   "execution_count": 5,
   "metadata": {},
   "outputs": [
    {
     "name": "stdout",
     "output_type": "stream",
     "text": [
      "姓名:\n",
      "当前总人数是0\n"
     ]
    }
   ],
   "source": [
    "class Huamn():\n",
    "    total_count = 0\n",
    "    def __init__(self, name, age, address=None):\n",
    "        self.name = name\n",
    "        self.age = age\n",
    "        self.address = address\n",
    "        self.__class__.total_count += 1\n",
    "\n",
    "    def show_info(self):\n",
    "        print(\"姓名:%s 年龄:%s 地址:%s\" % (self.name, self.age, self.address))\n",
    "\n",
    "    def updata_age(self):\n",
    "        self.age += 1\n",
    "\n",
    "    @classmethod\n",
    "    def get_huamn_count(cls):\n",
    "        return cls.total_count\n",
    "\n",
    "    def __del__(self):\n",
    "        self.__class__.total_count -= 1\n",
    "\n",
    "\n",
    "def input_human():\n",
    "    L = []\n",
    "    while True:\n",
    "        name = input(\"姓名:\")\n",
    "        if not name:\n",
    "            break\n",
    "        age = int(input(\"年龄:\") or '0')\n",
    "        address = input(\"地址:\")\n",
    "        s = Huamn(name, age, address)\n",
    "        L.append(s)\n",
    "    return L \n",
    "\n",
    "\n",
    "def main():\n",
    "    L = input_human()\n",
    "    for obj in L:\n",
    "        obj.show_info() # 列出所有人的信息\n",
    "    for obj in L:\n",
    "        obj.updata_age() # 让所有人都长一岁 \n",
    "    for obj in L:\n",
    "        obj.show_info() # 再次列表所有人的信息\n",
    "    print(\"当前总人数是%s\" % Huamn.get_huamn_count()) \n",
    "\n",
    "\n",
    "main()\n",
    "\n"
   ]
  },
  {
   "cell_type": "code",
   "execution_count": 9,
   "metadata": {},
   "outputs": [
    {
     "name": "stdout",
     "output_type": "stream",
     "text": [
      "[2002, 2009, 2016, 2023, 2037, 2044, 2051, 2058, 2072, 2079, 2086, 2093, 2107, 2114, 2121, 2128, 2142, 2149, 2156, 2163, 2177, 2184, 2191, 2198, 2212, 2219, 2226, 2233, 2247, 2254, 2261, 2268, 2282, 2289, 2296, 2303, 2317, 2324, 2331, 2338, 2352, 2359, 2366, 2373, 2387, 2394, 2401, 2408, 2422, 2429, 2436, 2443, 2457, 2464, 2471, 2478, 2492, 2499, 2506, 2513, 2527, 2534, 2541, 2548, 2562, 2569, 2576, 2583, 2597, 2604, 2611, 2618, 2632, 2639, 2646, 2653, 2667, 2674, 2681, 2688, 2702, 2709, 2716, 2723, 2737, 2744, 2751, 2758, 2772, 2779, 2786, 2793, 2807, 2814, 2821, 2828, 2842, 2849, 2856, 2863, 2877, 2884, 2891, 2898, 2912, 2919, 2926, 2933, 2947, 2954, 2961, 2968, 2982, 2989, 2996]\n"
     ]
    }
   ],
   "source": [
    "def print_nums():\n",
    "    c=[]\n",
    "    for i in range(2000,3001):\n",
    "        if(i %7==0 and i%5!=0):\n",
    "            c.append(i)\n",
    "#     for i in c:\n",
    "#         print(i,end='')\n",
    "#         if(i!=c[-1]):\n",
    "#             print(',',end='')\n",
    "    print(c)\n",
    "\n",
    "print_nums()\n",
    "                "
   ]
  }
 ],
 "metadata": {
  "kernelspec": {
   "display_name": "Python 3",
   "language": "python",
   "name": "python3"
  },
  "language_info": {
   "codemirror_mode": {
    "name": "ipython",
    "version": 3
   },
   "file_extension": ".py",
   "mimetype": "text/x-python",
   "name": "python",
   "nbconvert_exporter": "python",
   "pygments_lexer": "ipython3",
   "version": "3.6.5"
  }
 },
 "nbformat": 4,
 "nbformat_minor": 2
}

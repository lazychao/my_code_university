{
 "cells": [
  {
   "cell_type": "markdown",
   "metadata": {},
   "source": [
    "#### unicode utf-8 汉字三个字节   GB2312 两个字节\n",
    "```\n",
    "一个16进制数半个字节  \n",
    "with open(\"\",\"\") as f:\n",
    "```"
   ]
  },
  {
   "cell_type": "code",
   "execution_count": 7,
   "metadata": {},
   "outputs": [
    {
     "name": "stdout",
     "output_type": "stream",
     "text": [
      "c\n",
      "hengd\n"
     ]
    }
   ],
   "source": [
    "fp=open('C://Users//Dell//jupyter_files//07-文件操作-相关操作文件/city.txt','r')\n",
    "t1=fp.read(1)#读n个数据\n",
    "t2=fp.read(5)\n",
    "print(t1)\n",
    "print(t2)"
   ]
  },
  {
   "cell_type": "code",
   "execution_count": 18,
   "metadata": {},
   "outputs": [
    {
     "name": "stdout",
     "output_type": "stream",
     "text": [
      "'chengdu\\nshanghai'\n",
      "chengdu\n",
      "shanghai\n"
     ]
    }
   ],
   "source": [
    "fp=open('C://Users//Dell//jupyter_files//07-文件操作-相关操作文件/city.txt','r')\n",
    "t=fp.read()  #连换行符都会读取出来\n",
    "print(repr(t))\n",
    "print(t)"
   ]
  },
  {
   "cell_type": "code",
   "execution_count": 34,
   "metadata": {},
   "outputs": [
    {
     "name": "stdout",
     "output_type": "stream",
     "text": [
      "'chengdu\\n'\n",
      "'shanghai'\n"
     ]
    }
   ],
   "source": [
    "fp=open('C://Users//Dell//jupyter_files//07-文件操作-相关操作文件/city.txt','r')\n",
    "flag=True\n",
    "while flag:\n",
    "    tline=fp.readline()\n",
    "    if tline=='':#表示读到文件末尾\n",
    "        flag=False\n",
    "    else:\n",
    "        print(repr(tline))\n",
    "fp.close()"
   ]
  },
  {
   "cell_type": "code",
   "execution_count": 36,
   "metadata": {},
   "outputs": [
    {
     "name": "stdout",
     "output_type": "stream",
     "text": [
      "['chengdu\\n', 'shanghai']\n",
      "c\n"
     ]
    }
   ],
   "source": [
    "fp = open('C://Users//Dell//jupyter_files//07-文件操作-相关操作文件/city.txt', 'r') \n",
    "t=fp.readlines() \n",
    "print(t) \n",
    "print(t[0][0])##把每一行都读出来\n",
    "fp.close()  #关闭文件 "
   ]
  },
  {
   "cell_type": "code",
   "execution_count": 2,
   "metadata": {},
   "outputs": [
    {
     "data": {
      "text/plain": [
       "['chengdu', '']"
      ]
     },
     "execution_count": 2,
     "metadata": {},
     "output_type": "execute_result"
    }
   ],
   "source": [
    "a='chengdu\\n'\n",
    "b=a.split('\\n')\n",
    "b"
   ]
  },
  {
   "cell_type": "code",
   "execution_count": 17,
   "metadata": {},
   "outputs": [
    {
     "data": {
      "text/plain": [
       "['', 'a', 'a', '']"
      ]
     },
     "execution_count": 17,
     "metadata": {},
     "output_type": "execute_result"
    }
   ],
   "source": [
    "a='hahah'\n",
    "b=a.split('h')\n",
    "b"
   ]
  },
  {
   "cell_type": "markdown",
   "metadata": {},
   "source": [
    "#### w是重新覆盖写  a是追加\n",
    "#### os 模块\n",
    "#### csv文件是用文本文件形式存储的表格数据， 逗号分隔值，任何编辑器都可打开；可以进 行文件的一般操作过程\n",
    "#### 把条纹用逗号分隔 其实也是纯文本文件， 如果后缀改为csv打开就显示为表格\n",
    "#### 下面csv 的常用函数|"
   ]
  },
  {
   "cell_type": "code",
   "execution_count": 23,
   "metadata": {},
   "outputs": [
    {
     "name": "stdout",
     "output_type": "stream",
     "text": [
      "<class '_csv.reader'>\n",
      "['No.', 'Name', 'Age', 'Score']<class 'list'>\n",
      "['1', 'Jack', '23', '87']<class 'list'>\n",
      "['2', 'Anne', '22', '90']<class 'list'>\n",
      "['3', 'Mike', '23', '93']<class 'list'>\n"
     ]
    }
   ],
   "source": [
    "import csv\n",
    "with open('C://Users//Dell//jupyter_files//07-文件操作-相关操作文件/test.csv', 'r') as fp: \n",
    "    readers = csv.reader(fp)\n",
    "    print(type(readers))#readers 是一个迭代器\n",
    "    for row in readers:\n",
    "        print(row,end='') \n",
    "        print(type(row))"
   ]
  },
  {
   "cell_type": "code",
   "execution_count": 24,
   "metadata": {},
   "outputs": [
    {
     "name": "stdout",
     "output_type": "stream",
     "text": [
      "OrderedDict([('No.', '1'), ('Name', 'Jack'), ('Age', '23'), ('Score', '87')])\n",
      "OrderedDict([('No.', '2'), ('Name', 'Anne'), ('Age', '22'), ('Score', '90')])\n",
      "OrderedDict([('No.', '3'), ('Name', 'Mike'), ('Age', '23'), ('Score', '93')])\n"
     ]
    }
   ],
   "source": [
    "with open('C://Users//Dell//jupyter_files//07-文件操作-相关操作文件/test.csv', 'r') as fp:\n",
    "    readers = csv.DictReader(fp)\n",
    "    for row in readers:\n",
    "        print(row) "
   ]
  },
  {
   "cell_type": "code",
   "execution_count": 5,
   "metadata": {},
   "outputs": [
    {
     "name": "stdout",
     "output_type": "stream",
     "text": [
      "'No.,Name,Age,Score\\n1,Jack,23,87\\n2,Anne,22,90\\n3,Mike,23,93\\n'\n"
     ]
    }
   ],
   "source": [
    "##编写一个文件拷贝函数\n",
    "def Mycopy(name1,name2):\n",
    "    fp1=open(name1,'r')##不需要repr 用来会报错\n",
    "    fp2=open(name2,'w')\n",
    "    print(repr(fp1.read()))\n",
    "    fp2.write(fp1.read())\n",
    "    fp1.close()\n",
    "    fp2.close()\n",
    "\n",
    "name1=\"C://Users//Dell//jupyter_files//07-文件操作-相关操作文件/test.csv\"\n",
    "name2=\"C://Users//dell//Desktop/new.csv\"\n",
    "Mycopy(name1,name2)\n",
    "\n",
    "    "
   ]
  },
  {
   "cell_type": "code",
   "execution_count": 38,
   "metadata": {},
   "outputs": [
    {
     "name": "stdout",
     "output_type": "stream",
     "text": [
      "abmm\n",
      "\n"
     ]
    }
   ],
   "source": [
    "a='abmm\\n'\n",
    "print(a)"
   ]
  },
  {
   "cell_type": "code",
   "execution_count": 39,
   "metadata": {},
   "outputs": [
    {
     "name": "stdout",
     "output_type": "stream",
     "text": [
      "'abmm\\n'\n"
     ]
    }
   ],
   "source": [
    "a='abmm\\n'\n",
    "print(repr(a))"
   ]
  },
  {
   "cell_type": "code",
   "execution_count": 43,
   "metadata": {},
   "outputs": [
    {
     "name": "stdout",
     "output_type": "stream",
     "text": [
      "[['No.', 'Name', 'Age', 'Score'], ['1', 'Jack', '23', '87'], ['2', 'Anne', '22', '90'], ['3', 'Mike', '23', '93']]\n"
     ]
    }
   ],
   "source": [
    "##如何将csv表格的数据可以用下标直接取 就是变成列表  注意要去掉换行符 和 逗号\n",
    "class read_csv(object):\n",
    "    def __init__(self,name):\n",
    "        self.name=name\n",
    "    def reader(self):\n",
    "        fp = open(self.name, 'r') \n",
    "        flag=True\n",
    "        c=[]\n",
    "        while flag:\n",
    "            tline=fp.readline()\n",
    "            if tline=='':#表示读到文件末尾\n",
    "                flag=False\n",
    "            else:\n",
    "                a=tline.split('\\n')[0]#split 用法  如果分隔符实在最后一个 则会加一个‘’\n",
    "                b=a.split(',')#g根据每一个逗号 分成一个元素\n",
    "                c.append(b)\n",
    "        return c\n",
    "\n",
    "x=read_csv(\"C://Users//Dell//jupyter_files//07-文件操作-相关操作文件/test.csv\")\n",
    "c=x.reader()\n",
    "print(c)     \n",
    "    "
   ]
  },
  {
   "cell_type": "code",
   "execution_count": null,
   "metadata": {},
   "outputs": [],
   "source": [
    "f_name=r'user_info.txt'\n",
    "f_new_name='%s.new'%f_name\n",
    "del_id='10001'\n",
    "f_new=open(f_new_name,'w',encoding='utf-8')\n",
    "with open(f_name,'r',encoding='utf-8') as f:\n",
    "    for line in f:\n",
    "        if del_id in line:\n",
    "            pass\n",
    "        else:\n",
    "            f_new.write(line)\n",
    "f_new.close()\n",
    "os.replace(f_new_name,f_name)"
   ]
  },
  {
   "cell_type": "code",
   "execution_count": 44,
   "metadata": {},
   "outputs": [
    {
     "data": {
      "text/plain": [
       "{'s': 2}"
      ]
     },
     "execution_count": 44,
     "metadata": {},
     "output_type": "execute_result"
    }
   ],
   "source": [
    "a={}\n",
    "a[\"s\"]=2\n",
    "a"
   ]
  },
  {
   "cell_type": "code",
   "execution_count": null,
   "metadata": {},
   "outputs": [],
   "source": [
    "#如何快速统计字符串中的数字字母个数\n",
    "def mystatchars(src):\n",
    "    s='abc-zA-Z'\n",
    "    s+='0-9'\n",
    "    r={}\n",
    "    for i in range(len(src)):\n",
    "        "
   ]
  },
  {
   "cell_type": "code",
   "execution_count": null,
   "metadata": {},
   "outputs": [],
   "source": []
  },
  {
   "cell_type": "code",
   "execution_count": null,
   "metadata": {},
   "outputs": [],
   "source": []
  },
  {
   "cell_type": "code",
   "execution_count": null,
   "metadata": {},
   "outputs": [],
   "source": []
  },
  {
   "cell_type": "code",
   "execution_count": null,
   "metadata": {},
   "outputs": [],
   "source": []
  }
 ],
 "metadata": {
  "kernelspec": {
   "display_name": "Python 3",
   "language": "python",
   "name": "python3"
  },
  "language_info": {
   "codemirror_mode": {
    "name": "ipython",
    "version": 3
   },
   "file_extension": ".py",
   "mimetype": "text/x-python",
   "name": "python",
   "nbconvert_exporter": "python",
   "pygments_lexer": "ipython3",
   "version": "3.6.5"
  }
 },
 "nbformat": 4,
 "nbformat_minor": 2
}

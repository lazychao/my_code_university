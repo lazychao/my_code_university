{
 "cells": [
  {
   "cell_type": "code",
   "execution_count": 3,
   "metadata": {},
   "outputs": [
    {
     "name": "stdout",
     "output_type": "stream",
     "text": [
      "b'hello'\n"
     ]
    }
   ],
   "source": [
    "import tensorflow as tf\n",
    "hello=tf.constant('hello')\n",
    "sess=tf.Session()\n",
    "print(sess.run(hello))"
   ]
  },
  {
   "cell_type": "code",
   "execution_count": 3,
   "metadata": {},
   "outputs": [
    {
     "name": "stdout",
     "output_type": "stream",
     "text": [
      "3\n"
     ]
    }
   ],
   "source": [
    "import tensorflow as tf\n",
    "a=tf.constant(1)\n",
    "b=tf.constant(2)\n",
    "with tf.Session() as sess:\n",
    "    print(sess.run(a+b))"
   ]
  },
  {
   "cell_type": "code",
   "execution_count": 5,
   "metadata": {},
   "outputs": [
    {
     "name": "stdout",
     "output_type": "stream",
     "text": [
      "[[1.4545964]]\n"
     ]
    }
   ],
   "source": [
    "sess=tf.InteractiveSession()#和seesion的区别\n",
    "#tf.InteractiveSession()默认自己就是用户要操作的session，而tf.Session()没有这个默认，因此用eval()启动计算时需要指明session。\n",
    "w1=tf.Variable(tf.random_normal([2,3],mean=1,stddev=1.0))\n",
    "w2=tf.Variable(tf.random_normal([3,1],mean=1,stddev=1.0))\n",
    "a=tf.constant([[0.7,0.9]])#注意两个\n",
    "#初始化\n",
    "tf.global_variables_initializer().run()\n",
    "b=tf.matmul(a,w1)\n",
    "y=tf.matmul(b,w2)\n",
    "print(y.eval())#还要eval"
   ]
  },
  {
   "cell_type": "code",
   "execution_count": 7,
   "metadata": {},
   "outputs": [
    {
     "name": "stdout",
     "output_type": "stream",
     "text": [
      "var1: varname:0\n",
      "var2: varname_1:0\n",
      "var3: Variable:0\n",
      "var4: Variable_1:0\n",
      "var5: test1/varname:0\n",
      "var6: test2/varname:0\n"
     ]
    }
   ],
   "source": [
    "tf.reset_default_graph()#v重置计算图\n",
    "var1=tf.Variable(10.0,name=\"varname\")\n",
    "var2=tf.Variable(11.0,name=\"varname\")\n",
    "var3=tf.Variable(12.0)\n",
    "var4=tf.Variable(13.0)\n",
    "#定义get_variable变量\n",
    "with tf.variable_scope(\"test1\"):\n",
    "    var5=tf.get_variable(\"varname\",shape=[2],\n",
    "                       dtype=tf.float32 )\n",
    "with tf.variable_scope(\"test2\"):\n",
    "    var6=tf.get_variable(\"varname\",shape=[2],\n",
    "                       dtype=tf.float32 )\n",
    "#输出变量\n",
    "print(\"var1:\",var1.name)\n",
    "print(\"var2:\",var2.name)\n",
    "print(\"var3:\",var3.name)\n",
    "print(\"var4:\",var4.name)\n",
    "print(\"var5:\",var5.name)\n",
    "print(\"var6:\",var6.name)"
   ]
  },
  {
   "cell_type": "markdown",
   "metadata": {},
   "source": [
    "#### 每个节点是op  operation \n",
    "\n",
    "一个op获得多个tensor产生多个tensor\n",
    "图必须在会话里被启动，会话将op发到CPU或gpu上，并提供执行operation的方法\n",
    "分为构建阶段和执行阶段\n",
    "构建图：\n",
    "构建第一步，创建源  不需要任何输入\n",
    "有默认图  一般只要一个图  用op构造器可以为其增加节点\n",
    "op可以是常量\n",
    "tf.   这类函数都是创建一个节点op包括tf.constant\n",
    "\n",
    "为了真正进行运算 并且得到结果  就必须在会话里启动这个图\n",
    "***\n",
    "\n",
    "构造完后启动图  先创建一个session\n",
    "\n",
    "变量需要被初始化\n",
    "所以还要加一个初始化op\n",
    "\n",
    "在调用run()之前并不会真正执行赋值操作\n",
    "tf.Session.run()函数返回值为fetches的执行结果\n",
    "eg... result = sess.run([mul,intermed])\n",
    "result也是一个列表  同时去两个 这是fetch\n",
    "run(\n",
    "    fetches,\n",
    "    feed_dict=None\n",
    "    options=None,\n",
    "    run_metadata=None\n",
    ")返回的numpy类型的数据类型\n",
    "tf.placeholder(dtype, shape=None, name=None)\n",
    "为解决常量过多而添加了过多的节点，使用占位符，可以不马上赋值，在run那里feed_dict字典参数的形式赋值\n"
   ]
  },
  {
   "cell_type": "code",
   "execution_count": 15,
   "metadata": {},
   "outputs": [
    {
     "data": {
      "text/plain": [
       "['C:\\\\Users\\\\Dell\\\\Anaconda3\\\\envs\\\\py36\\\\lib\\\\tensorflow']"
      ]
     },
     "execution_count": 15,
     "metadata": {},
     "output_type": "execute_result"
    }
   ],
   "source": [
    "tf.__path__"
   ]
  },
  {
   "cell_type": "code",
   "execution_count": 9,
   "metadata": {},
   "outputs": [
    {
     "name": "stdout",
     "output_type": "stream",
     "text": [
      "Epoch: 1 cost= 0.76823515 W= [0.72604233] b= [0.37894157]\n",
      "Epoch: 3 cost= 0.13658093 W= [1.6582043] b= [0.12992042]\n",
      "Epoch: 5 cost= 0.085958794 W= [1.9110562] b= [0.03471883]\n",
      "Epoch: 7 cost= 0.08288456 W= [1.9766345] b= [0.00958421]\n",
      "Epoch: 9 cost= 0.08277117 W= [1.9935949] b= [0.00307632]\n",
      "Epoch: 11 cost= 0.082787454 W= [1.9979801] b= [0.0013935]\n",
      "Epoch: 13 cost= 0.082794726 W= [1.9991137] b= [0.00095849]\n",
      "Epoch: 15 cost= 0.08279681 W= [1.9994068] b= [0.00084596]\n",
      "Epoch: 17 cost= 0.082797356 W= [1.9994829] b= [0.00081675]\n",
      "Epoch: 19 cost= 0.082797505 W= [1.9995034] b= [0.00080894]\n",
      " Finished!\n",
      "cost= 0.08279753 W= [1.9995065] b= [0.00080776]\n",
      "cost: 0.08279753\n"
     ]
    }
   ],
   "source": [
    "import tensorflow as tf\n",
    "import matplotlib.pyplot as plt\n",
    "import numpy as np\n",
    "plotdata = { \"batchsize\":[], \"loss\":[] } \n",
    "def moving_average(a, w=10): \n",
    "    if len(a) < w:       \n",
    "        return a[:] \n",
    "    return [val if idx < w else sum(a[(idx-w):idx])/w for idx, val in enumerate(a)]   \n",
    "train_X=np.linspace(-1,1,100)\n",
    "train_Y=2*trainx+np.random.randn(*trainx.shape)*0.3\n",
    "# plt.plot(trainx,trainy,'b',label=\"original data\")\n",
    "# plt.legend()\n",
    "plt.show()\n",
    "tf.reset_default_graph() \n",
    "#重置计算图\n",
    "X = tf.placeholder(\"float\") \n",
    "Y = tf.placeholder(\"float\") \n",
    "W = tf.Variable(tf.random_normal([1]), name=\"weight\") \n",
    "b = tf.Variable(tf.zeros([1]), name=\"bias\") \n",
    "#前向结构\n",
    "z = tf.multiply(X, W)+b\n",
    "tf.summary.histogram('z',z)#将预测值以直方图显示\n",
    "cost =tf.reduce_mean( tf.square(Y - z)) \n",
    "tf.summary.scalar('loss_function', cost) \n",
    "learning_rate = 0.01\n",
    "optimizer = tf.train.GradientDescentOptimizer(learning_rate).minimize(cost)\n",
    "init = tf.global_variables_initializer() \n",
    "training_epochs = 20 \n",
    "display_step = 2 \n",
    "with tf.Session() as sess: \n",
    "    sess.run(init) \n",
    "    merged_summary_op = tf.summary.merge_all() \n",
    "    summary_writer = tf.summary.FileWriter('log/mnist_with_summaries',sess.graph)\n",
    "    for epoch in range(training_epochs): \n",
    "        for (x, y) in zip(train_X, train_Y):\n",
    "            sess.run(optimizer, feed_dict={X: x, Y: y})\n",
    "            summary_str = sess.run(merged_summary_op,feed_dict={X: x, Y: y})\n",
    "            summary_writer.add_summary(summary_str, epoch)\n",
    "        if epoch % display_step == 0: \n",
    "            loss = sess.run(cost, feed_dict={X: train_X, Y:train_Y})\n",
    "            print (\"Epoch:\", epoch+1, \"cost=\", loss,\"W=\", sess.run(W), \"b=\", sess.run(b))\n",
    "            if not (loss == \"NA\" ): \n",
    "                plotdata[\"batchsize\"].append(epoch)  \n",
    "                plotdata[\"loss\"].append(loss) \n",
    "    print (\" Finished!\") \n",
    "    print (\"cost=\", sess.run(cost, feed_dict={X: train_X, Y: train_Y}), \"W=\", sess.run(W), \"b=\", sess.run(b))   \n",
    "    print (\"cost:\",cost.eval({X: train_X, Y: train_Y}))        \n",
    "# plt.plot(train_X, train_Y, 'ro', label='Original data')    \n",
    "# plt.plot(train_X, sess.run(W) * train_X + sess.run(b), label='Fitted line')     \n",
    "# plt.legend()   \n",
    "# plt.show()      \n",
    "# plotdata[\"avgloss\"] = moving_average(plotdata[\"loss\"])    \n",
    "# plt.figure(1)    \n",
    "# plt.subplot(211)    \n",
    "# plt.plot(plotdata[\"batchsize\"], plotdata[\"avgloss\"], 'b--')  \n",
    "# plt.xlabel('Minibatch number')    \n",
    "# plt.ylabel('Loss') \n",
    "# plt.title('Minibatch run vs. Training loss')       \n",
    "# plt.show()\n",
    "            \n",
    "            \n"
   ]
  },
  {
   "cell_type": "code",
   "execution_count": 3,
   "metadata": {},
   "outputs": [
    {
     "data": {
      "text/plain": [
       "['',\n",
       " 'C:\\\\Users\\\\Dell\\\\Anaconda3\\\\python36.zip',\n",
       " 'C:\\\\Users\\\\Dell\\\\Anaconda3\\\\DLLs',\n",
       " 'C:\\\\Users\\\\Dell\\\\Anaconda3\\\\lib',\n",
       " 'C:\\\\Users\\\\Dell\\\\Anaconda3',\n",
       " 'C:\\\\Users\\\\Dell\\\\Anaconda3\\\\lib\\\\site-packages',\n",
       " 'C:\\\\Users\\\\Dell\\\\Anaconda3\\\\lib\\\\site-packages\\\\win32',\n",
       " 'C:\\\\Users\\\\Dell\\\\Anaconda3\\\\lib\\\\site-packages\\\\win32\\\\lib',\n",
       " 'C:\\\\Users\\\\Dell\\\\Anaconda3\\\\lib\\\\site-packages\\\\Pythonwin',\n",
       " 'C:\\\\Users\\\\Dell\\\\Anaconda3\\\\lib\\\\site-packages\\\\IPython\\\\extensions',\n",
       " 'C:\\\\Users\\\\Dell\\\\.ipython']"
      ]
     },
     "execution_count": 3,
     "metadata": {},
     "output_type": "execute_result"
    }
   ],
   "source": [
    "import sys\n",
    "sys.path"
   ]
  },
  {
   "cell_type": "code",
   "execution_count": 7,
   "metadata": {},
   "outputs": [
    {
     "name": "stdout",
     "output_type": "stream",
     "text": [
      "Active code page: 65001\n"
     ]
    },
    {
     "name": "stderr",
     "output_type": "stream",
     "text": [
      "[NbConvertApp] Converting notebook 初学tensorflow.ipynb to python\n",
      "[NbConvertApp] Writing 4533 bytes to 初学tensorflow.py\n"
     ]
    }
   ],
   "source": [
    "try:\n",
    "    !jupyter nbconvert --to python 初学tensorflow.ipynb\n",
    "except:\n",
    "    pass"
   ]
  },
  {
   "cell_type": "code",
   "execution_count": null,
   "metadata": {},
   "outputs": [],
   "source": []
  },
  {
   "cell_type": "code",
   "execution_count": null,
   "metadata": {},
   "outputs": [],
   "source": []
  },
  {
   "cell_type": "code",
   "execution_count": null,
   "metadata": {},
   "outputs": [],
   "source": []
  },
  {
   "cell_type": "code",
   "execution_count": null,
   "metadata": {},
   "outputs": [],
   "source": []
  },
  {
   "cell_type": "code",
   "execution_count": null,
   "metadata": {},
   "outputs": [],
   "source": []
  },
  {
   "cell_type": "code",
   "execution_count": null,
   "metadata": {},
   "outputs": [],
   "source": []
  },
  {
   "cell_type": "code",
   "execution_count": null,
   "metadata": {},
   "outputs": [],
   "source": []
  }
 ],
 "metadata": {
  "kernelspec": {
   "display_name": "Python 3",
   "language": "python",
   "name": "python3"
  },
  "language_info": {
   "codemirror_mode": {
    "name": "ipython",
    "version": 3
   },
   "file_extension": ".py",
   "mimetype": "text/x-python",
   "name": "python",
   "nbconvert_exporter": "python",
   "pygments_lexer": "ipython3",
   "version": "3.6.5"
  }
 },
 "nbformat": 4,
 "nbformat_minor": 2
}

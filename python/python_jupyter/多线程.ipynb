{
 "cells": [
  {
   "cell_type": "markdown",
   "metadata": {},
   "source": [
    "#### 进程包括多个线程 thread 线程"
   ]
  },
  {
   "cell_type": "code",
   "execution_count": 16,
   "metadata": {},
   "outputs": [
    {
     "name": "stdout",
     "output_type": "stream",
     "text": [
      "hh\n",
      "jdjj\n",
      "sadja\n",
      "ID:(1)Time:Wed Oct 30 20:08:19 2019ID:(2)Time:Wed Oct 30 20:08:19 2019\n",
      "\n",
      "ID:(1)Time:Wed Oct 30 20:08:20 2019\n",
      "ID:(2)Time:Wed Oct 30 20:08:21 2019\n",
      "ID:(1)Time:Wed Oct 30 20:08:21 2019\n",
      "ID:(1)Time:Wed Oct 30 20:08:22 2019\n",
      "ID:(2)Time:Wed Oct 30 20:08:23 2019\n",
      "ID:(1)Time:Wed Oct 30 20:08:23 2019\n",
      "ID:(2)Time:Wed Oct 30 20:08:25 2019\n",
      "ID:(2)Time:Wed Oct 30 20:08:27 2019\n"
     ]
    }
   ],
   "source": [
    "import _thread\n",
    "import time \n",
    "def timer(no, interval): \n",
    "    cnt = 0 \n",
    "    while cnt<5:\n",
    "        str1 ='ID:(%d)Time:%s'%(no, time.ctime())\n",
    "        print(str1)\n",
    "        time.sleep(interval)\n",
    "        cnt+=1 \n",
    "    _thread.exit_thread()\n",
    "\n",
    "def test(): #Use thread.start_new_thread() #to create 2 new \n",
    "    _thread.start_new_thread(timer, (1,1))#cnt等局部变量都不一样\n",
    "    print(\"hh\")\n",
    "    print(\"jdjj\")\n",
    "    print(\"sadja\")\n",
    "#     time.sleep(1)\n",
    "    _thread.start_new_thread(timer, (2,2)) \n",
    "if __name__=='__main__':    \n",
    "    test()"
   ]
  },
  {
   "cell_type": "markdown",
   "metadata": {},
   "source": [
    "#### 如果要给一亿个整数排序，怎么办"
   ]
  },
  {
   "cell_type": "code",
   "execution_count": 19,
   "metadata": {},
   "outputs": [
    {
     "name": "stdout",
     "output_type": "stream",
     "text": [
      "starting at: Wed Oct 30 20:26:40 2019\n",
      "start loopstart loop 0  at:1  Wed Oct 30 20:26:40 2019at:\n",
      " Wed Oct 30 20:26:40 2019\n",
      "loop 1 done at Wed Oct 30 20:26:42 2019\n",
      "loop 0 done at Wed Oct 30 20:26:44 2019\n",
      "all done at Wed Oct 30 20:26:44 2019\n",
      "all done at Wed Oct 30 20:26:44 2019\n"
     ]
    }
   ],
   "source": [
    "import _thread\n",
    "from time import sleep, ctime\n",
    "loops = [4, 2]\n",
    "def loop(nloop, nsec, lock):\n",
    "    print('start loop', nloop, 'at:', ctime())\n",
    "    sleep(nsec)\n",
    "    print('loop', nloop, 'done at', ctime())\n",
    "    lock.release() #释放锁\n",
    "def main():\n",
    "    print('starting at:', ctime())\n",
    "    locks = []\n",
    "    for i in range(len(loops)):\n",
    "        lock = _thread.allocate_lock()\n",
    "        lock.acquire() #锁上锁\n",
    "        locks.append(lock) #保存锁\n",
    "    for i in range(len(loops)):\n",
    "            _thread.start_new_thread(loop, (i, loops[i], locks[i]))\n",
    "            #使用忙等待暂停主线程，直到所有的锁都被释放继续主线程， \n",
    "    for i in range(len(loops)):\n",
    "        while locks[i].locked():\n",
    "            pass\n",
    "        print('all done at', ctime()) \n",
    "if __name__ == '__main__':\n",
    "    main() "
   ]
  },
  {
   "cell_type": "code",
   "execution_count": 21,
   "metadata": {},
   "outputs": [
    {
     "name": "stdout",
     "output_type": "stream",
     "text": [
      "3\n"
     ]
    },
    {
     "name": "stderr",
     "output_type": "stream",
     "text": [
      "Exception in thread 1:\n",
      "Traceback (most recent call last):\n",
      "  File \"C:\\Users\\Dell\\Anaconda3\\lib\\threading.py\", line 917, in _bootstrap_inner\n",
      "    self.run()\n",
      "  File \"<ipython-input-20-25582a2e00f8>\", line 14, in run\n",
      "    lock.release()\n",
      "RuntimeError: cannot release un-acquired lock\n",
      "\n"
     ]
    },
    {
     "name": "stdout",
     "output_type": "stream",
     "text": [
      "3\n",
      "6\n",
      "9\n",
      "12\n",
      "15\n",
      "18\n",
      "21\n",
      "24\n",
      "27\n",
      "30\n"
     ]
    }
   ],
   "source": [
    "#coding=utf-8\n",
    "import threading\n",
    "import time\n",
    "class mythread(threading.Thread):\n",
    "    def __init__(self,threadname):\n",
    "        threading.Thread.__init__(self,name=threadname)\n",
    "    def run(self):\n",
    "        global x\n",
    "        lock.acquire()\n",
    "        for i in range(3):\n",
    "            x=x+1\n",
    "        time.sleep(2)\n",
    "        print(x)\n",
    "        lock.release()\n",
    "\n",
    "lock=threading.RLock()\n",
    "t1=[ ]\n",
    "for i in range(10):\n",
    "    t= mythread(str(i))\n",
    "    t1.append(t)\n",
    "x=0\n",
    "for i in t1:\n",
    "    i.start()\n"
   ]
  },
  {
   "cell_type": "markdown",
   "metadata": {},
   "source": [
    "#### 实现1千个数据排序"
   ]
  },
  {
   "cell_type": "markdown",
   "metadata": {},
   "source": [
    "#### 需求：有100个数据，启动5个线程，每个线程分20个数据，怎么把这20个数据分别传给每个线程。"
   ]
  },
  {
   "cell_type": "code",
   "execution_count": null,
   "metadata": {},
   "outputs": [],
   "source": [
    "import threading\n",
    "nums = list(range(100))\n",
    "def p(nums):\n",
    "    for num in numss:\n",
    "        print(num)\n",
    "threads = []\n",
    "for i in range(5):\n",
    "    # nums[0:20] #每次取的值\n",
    "    # nums[20:40]\n",
    "    # nums[40:60]\n",
    "    # nums[60:80]\n",
    "    # nums[80:]\n",
    "    t = threading.Thread(target=p,args=(numss[i*20:(i+1)*20],))\n",
    "    t.start()"
   ]
  },
  {
   "cell_type": "code",
   "execution_count": null,
   "metadata": {},
   "outputs": [],
   "source": [
    "import threadpool\n",
    "def p(num):\n",
    "    print(num)\n",
    "res = list(range(100))\n",
    "pool = threadpool.ThreadPool(20)#20个线程\n",
    "reqs = threadpool.makeRequests(p,res)#生成线程要执行的所有线程,第一个参数为函数名，第二个参数是传的值\n",
    "[pool.putRequest(req) for req in reqs] #列表生成式\n",
    "pool.wait()#等待 其他线程执行结束"
   ]
  },
  {
   "cell_type": "code",
   "execution_count": null,
   "metadata": {},
   "outputs": [],
   "source": []
  }
 ],
 "metadata": {
  "kernelspec": {
   "display_name": "Python 3",
   "language": "python",
   "name": "python3"
  },
  "language_info": {
   "codemirror_mode": {
    "name": "ipython",
    "version": 3
   },
   "file_extension": ".py",
   "mimetype": "text/x-python",
   "name": "python",
   "nbconvert_exporter": "python",
   "pygments_lexer": "ipython3",
   "version": "3.7.0"
  }
 },
 "nbformat": 4,
 "nbformat_minor": 2
}

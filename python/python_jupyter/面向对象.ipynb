{
 "cells": [
  {
   "cell_type": "markdown",
   "metadata": {},
   "source": [
    "### 面向对象 oop  object oriented programming"
   ]
  },
  {
   "cell_type": "code",
   "execution_count": null,
   "metadata": {},
   "outputs": [],
   "source": [
    "# class Student(object):\n",
    "#     def __init__(self,name,score):\n",
    "#         self.name=name\n",
    "#         self.score=score\n",
    "#     def print_m(self):\n",
    "#         print('name is '+str(self.name))\n",
    "#         print('score is '+str(self.score))\n",
    "\n",
    "# a=Student('trz',12)\n",
    "# b=Student('fsy',12)\n",
    "# a.print_m()\n",
    "# b.print_m()\n",
    "# a.name='traaaaa'\n",
    "# print(a.name)"
   ]
  },
  {
   "cell_type": "markdown",
   "metadata": {},
   "source": [
    "####  python 自己定义数据类型    用法和c++不同   设置某个数据类型的变量  不是 像type a=1 那样\n",
    "####  struct a(1,2)   而python 是a=struct(1,2,3)"
   ]
  },
  {
   "cell_type": "markdown",
   "metadata": {},
   "source": [
    "#### 把变量变成私有就在前面加下划线"
   ]
  },
  {
   "cell_type": "code",
   "execution_count": 1,
   "metadata": {},
   "outputs": [
    {
     "ename": "AttributeError",
     "evalue": "'Student' object has no attribute '__name'",
     "output_type": "error",
     "traceback": [
      "\u001b[1;31m---------------------------------------------------------------------------\u001b[0m",
      "\u001b[1;31mAttributeError\u001b[0m                            Traceback (most recent call last)",
      "\u001b[1;32m<ipython-input-1-ab48ad711204>\u001b[0m in \u001b[0;36m<module>\u001b[1;34m()\u001b[0m\n\u001b[0;32m      9\u001b[0m \u001b[0ma\u001b[0m\u001b[1;33m=\u001b[0m\u001b[0mStudent\u001b[0m\u001b[1;33m(\u001b[0m\u001b[1;34m'trz'\u001b[0m\u001b[1;33m,\u001b[0m\u001b[1;36m12\u001b[0m\u001b[1;33m)\u001b[0m\u001b[1;33m\u001b[0m\u001b[0m\n\u001b[0;32m     10\u001b[0m \u001b[0mb\u001b[0m\u001b[1;33m=\u001b[0m\u001b[0mStudent\u001b[0m\u001b[1;33m(\u001b[0m\u001b[1;34m'fsy'\u001b[0m\u001b[1;33m,\u001b[0m\u001b[1;36m12\u001b[0m\u001b[1;33m)\u001b[0m\u001b[1;33m\u001b[0m\u001b[0m\n\u001b[1;32m---> 11\u001b[1;33m \u001b[0mprint\u001b[0m\u001b[1;33m(\u001b[0m\u001b[0ma\u001b[0m\u001b[1;33m.\u001b[0m\u001b[0m__name\u001b[0m\u001b[1;33m)\u001b[0m\u001b[1;31m##这样写是错误的， 不是赋值那就使用类里面的\u001b[0m\u001b[1;33m\u001b[0m\u001b[0m\n\u001b[0m\u001b[0;32m     12\u001b[0m \u001b[0ma\u001b[0m\u001b[1;33m.\u001b[0m\u001b[0m__name\u001b[0m\u001b[1;33m=\u001b[0m\u001b[1;34m'aksd'\u001b[0m\u001b[1;31m###python 外部新建的一个变量  实际并没有修改\u001b[0m\u001b[1;33m\u001b[0m\u001b[0m\n\u001b[0;32m     13\u001b[0m \u001b[1;33m\u001b[0m\u001b[0m\n",
      "\u001b[1;31mAttributeError\u001b[0m: 'Student' object has no attribute '__name'"
     ]
    }
   ],
   "source": [
    "class Student(object):\n",
    "    def __init__(self,name,score):\n",
    "        self.__name=name\n",
    "        self.__score=score\n",
    "    def print_m(self):\n",
    "        print('name is '+str(self.__name))\n",
    "        print('score is '+str(self.__score))\n",
    "\n",
    "a=Student('trz',12)\n",
    "b=Student('fsy',12)\n",
    "print(a.__name)##这样写是错误的， 不是赋值那就使用类里面的\n",
    "a.__name='aksd'###python 外部新建的一个变量  实际并没有修改\n",
    "\n",
    "a.print_m()\n",
    "b.print_m()"
   ]
  },
  {
   "cell_type": "code",
   "execution_count": 3,
   "metadata": {},
   "outputs": [
    {
     "data": {
      "text/plain": [
       "23"
      ]
     },
     "execution_count": 3,
     "metadata": {},
     "output_type": "execute_result"
    }
   ],
   "source": [
    "class student(object):\n",
    "    def __init__(self,name,year,score):\n",
    "        self.__name=name\n",
    "        self.__year=year\n",
    "        self.__score=score\n",
    "    def get_name(self):\n",
    "        return str(self.__name)\n",
    "    def get_year(self):\n",
    "        return int(self.__year)\n",
    "    def get_score(self):\n",
    "        return int(max(self.__score))\n",
    "\n",
    "a=student('trz',19,[23,2,21])\n",
    "b=a.get_score()\n",
    "b"
   ]
  },
  {
   "cell_type": "code",
   "execution_count": 4,
   "metadata": {},
   "outputs": [
    {
     "data": {
      "text/plain": [
       "23"
      ]
     },
     "execution_count": 4,
     "metadata": {},
     "output_type": "execute_result"
    }
   ],
   "source": [
    "class student(object):\n",
    "    def __init__(self,name,year,*score):###如果用列表就不需要*号。 会把多个元素变成一个元组\n",
    "        self.__name=name\n",
    "        self.__year=year\n",
    "        self.__score=score\n",
    "    def get_name(self):\n",
    "        return str(self.__name)\n",
    "    def get_year(self):\n",
    "        return int(self.__year)\n",
    "    def get_score(self):\n",
    "        return int(max(self.__score))\n",
    "\n",
    "a=student('trz',19,23,2,21)\n",
    "b=a.get_score()\n",
    "b"
   ]
  },
  {
   "cell_type": "code",
   "execution_count": 9,
   "metadata": {},
   "outputs": [
    {
     "name": "stdout",
     "output_type": "stream",
     "text": [
      "True\n",
      "False\n"
     ]
    }
   ],
   "source": [
    "class animal(object):\n",
    "    def run():\n",
    "        print(\"animal is running\")\n",
    "class dog(animal):\n",
    "    def run():\n",
    "        print(\"dog is running\")\n",
    "\n",
    "a=dog()\n",
    "b=animal()\n",
    "print(isinstance(a,animal))\n",
    "print(isinstance(b,dog))"
   ]
  },
  {
   "cell_type": "code",
   "execution_count": 13,
   "metadata": {},
   "outputs": [
    {
     "name": "stdout",
     "output_type": "stream",
     "text": [
      "dog is running\n"
     ]
    }
   ],
   "source": [
    "def running(animal):\n",
    "    animal.run()\n",
    "running(dog)"
   ]
  },
  {
   "cell_type": "code",
   "execution_count": null,
   "metadata": {},
   "outputs": [],
   "source": []
  },
  {
   "cell_type": "markdown",
   "metadata": {},
   "source": [
    "### python 取最后一个元素用-1 特别方便"
   ]
  },
  {
   "cell_type": "code",
   "execution_count": 10,
   "metadata": {},
   "outputs": [
    {
     "name": "stdout",
     "output_type": "stream",
     "text": [
      "True\n",
      "[0, 1, 2, 3, 4]\n",
      "[0, 1, 2, 3]\n",
      "4\n",
      "3\n"
     ]
    }
   ],
   "source": [
    "class Stack(object):\n",
    "    #定义一个空栈\n",
    "    def __init__(self):\n",
    "        self.items = []\n",
    "    #添加一个元素\n",
    "    def push(self, item):\n",
    "        self.items.append(item)\n",
    "    #删除一个元素\n",
    "    def pop(self):\n",
    "        return(self.items.pop())\n",
    "    #返回栈顶\n",
    "    def peek(self):\n",
    "        return(self.items[-1])\n",
    "    #清空栈\n",
    "    def clear(self):\n",
    "        del(self.items)\n",
    "    #判断是否为空\n",
    "    def isEmpty(self):\n",
    "        return(self.items == [])\n",
    "    #返回栈中元素个数\n",
    "    def size(self):\n",
    "        return(len(self.items))\n",
    "    #打印栈\n",
    "    def print(self):\n",
    "        print(self.items)\n",
    "if __name__ == '__main__':\n",
    "    s = Stack()\n",
    "    print(s.isEmpty())\n",
    "    for i in range(5):\n",
    "        s.push(i)\n",
    "    s.print()\n",
    "    s.pop()\n",
    "    s.print()\n",
    "    print(s.size())\n",
    "    print(s.peek())\n",
    "    s.clear()\n"
   ]
  },
  {
   "cell_type": "code",
   "execution_count": 12,
   "metadata": {},
   "outputs": [
    {
     "name": "stdout",
     "output_type": "stream",
     "text": [
      "True\n",
      "5\n",
      "[0, 1, 2, 3, 4]\n",
      "[1, 2, 3, 4]\n",
      "<__main__.Queue object at 0x000002196AB49BE0>\n"
     ]
    }
   ],
   "source": [
    "class Queue(object):\n",
    "    #定义一个空队列\n",
    "    def __init__(self):\n",
    "        self.items = []\n",
    "    #队列(只能在队尾)添加一个元素\n",
    "    def enqueue(self, item):\n",
    "        self.items.append(item)\n",
    "    #删除队列（只能在对头）一个元素\n",
    "    def dequeue(self):\n",
    "        self.items.pop(0)\n",
    "    #判断队列是否为空\n",
    "    def isEmpty(self):\n",
    "        return(self.items == [])\n",
    "    #清空队列\n",
    "    def clear(self):\n",
    "        del(self.items) #该队列就不存在了，而不是清空元素\n",
    "    #返回队列项的数量\n",
    "    def size(self):\n",
    "        return(len(self.items))\n",
    "    #打印队列\n",
    "    def print(self):\n",
    "        print(self.items)\n",
    "if __name__ == '__main__':\n",
    "    q = Queue()\n",
    "    print(q.isEmpty())\n",
    "    for i in range(5):\n",
    "        q.enqueue(i)\n",
    "    print(q.size())\n",
    "    q.print()\n",
    "    q.dequeue()\n",
    "    q.print()\n",
    "    q.clear()\n",
    "    print(q)\n"
   ]
  },
  {
   "cell_type": "markdown",
   "metadata": {},
   "source": [
    "### 英雄联盟人物"
   ]
  },
  {
   "cell_type": "code",
   "execution_count": 4,
   "metadata": {},
   "outputs": [
    {
     "name": "stdout",
     "output_type": "stream",
     "text": [
      "gaylun is attacking yasuo\n",
      "yasuo remain 70\n",
      "yasuo is attacking gaylun\n",
      "gaylun remain 80\n",
      "gaylun is attacking yasuo\n",
      "yasuo remain 60\n",
      "yasuo is attacking gaylun\n",
      "gaylun remain 60\n",
      "gaylun is attacking yasuo\n",
      "yasuo remain 50\n",
      "yasuo is attacking gaylun\n",
      "gaylun remain 40\n",
      "gaylun is attacking yasuo\n",
      "yasuo remain 40\n",
      "yasuo is attacking gaylun\n",
      "gaylun remain 20\n",
      "gaylun is attacking yasuo\n",
      "yasuo remain 30\n",
      "yasuo is attacking gaylun\n",
      "gaylun remain 0\n"
     ]
    }
   ],
   "source": [
    "class role(object):\n",
    "    def __init__(self,name,ad,hp):\n",
    "        self.name=name\n",
    "        self.ad=ad\n",
    "        self.hp=hp\n",
    "    def d_hp(self,attack1):\n",
    "        self.hp-=attack1\n",
    "\n",
    "def attack(a,b):\n",
    "    b.d_hp(a.ad)\n",
    "    print(\"%s is attacking %s\"%(a.name,b.name))\n",
    "    print(\"%s remain %d\"%(b.name,b.hp))\n",
    "\n",
    "gaylun=role('gaylun',10,100)\n",
    "yasuo=role('yasuo',20,80)\n",
    "while gaylun.hp!=0 and yasuo.hp!=0:\n",
    "    attack(gaylun,yasuo)\n",
    "    attack(yasuo,gaylun)\n"
   ]
  },
  {
   "cell_type": "code",
   "execution_count": null,
   "metadata": {},
   "outputs": [],
   "source": []
  }
 ],
 "metadata": {
  "kernelspec": {
   "display_name": "Python 3",
   "language": "python",
   "name": "python3"
  },
  "language_info": {
   "codemirror_mode": {
    "name": "ipython",
    "version": 3
   },
   "file_extension": ".py",
   "mimetype": "text/x-python",
   "name": "python",
   "nbconvert_exporter": "python",
   "pygments_lexer": "ipython3",
   "version": "3.7.0"
  }
 },
 "nbformat": 4,
 "nbformat_minor": 2
}
